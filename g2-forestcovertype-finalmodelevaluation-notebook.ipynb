{
 "cells": [
  {
   "cell_type": "markdown",
   "id": "f3bdfca5",
   "metadata": {
    "papermill": {
     "duration": 0.025594,
     "end_time": "2021-12-12T04:16:18.524864",
     "exception": false,
     "start_time": "2021-12-12T04:16:18.499270",
     "status": "completed"
    },
    "tags": []
   },
   "source": [
    "# Final Model Evaluation Notebook\n",
    "\n",
    "This notebook consists of an evaluation of our best model for the Forest Cover Type Prediction competition. Our best model is an Extra Trees model, which outperformed our ensemble. "
   ]
  },
  {
   "cell_type": "markdown",
   "id": "180afb42",
   "metadata": {
    "papermill": {
     "duration": 0.020935,
     "end_time": "2021-12-12T04:16:18.567488",
     "exception": false,
     "start_time": "2021-12-12T04:16:18.546553",
     "status": "completed"
    },
    "tags": []
   },
   "source": [
    "# Import Statements"
   ]
  },
  {
   "cell_type": "markdown",
   "id": "b73abddb",
   "metadata": {
    "papermill": {
     "duration": 0.020237,
     "end_time": "2021-12-12T04:16:18.608290",
     "exception": false,
     "start_time": "2021-12-12T04:16:18.588053",
     "status": "completed"
    },
    "tags": []
   },
   "source": [
    "First, we will import the necessary packages for data manipulation and analysis."
   ]
  },
  {
   "cell_type": "code",
   "execution_count": 1,
   "id": "997d9a4f",
   "metadata": {
    "execution": {
     "iopub.execute_input": "2021-12-12T04:16:18.661196Z",
     "iopub.status.busy": "2021-12-12T04:16:18.660378Z",
     "iopub.status.idle": "2021-12-12T04:16:25.454150Z",
     "shell.execute_reply": "2021-12-12T04:16:25.453451Z",
     "shell.execute_reply.started": "2021-12-12T04:14:34.489538Z"
    },
    "papermill": {
     "duration": 6.825411,
     "end_time": "2021-12-12T04:16:25.454333",
     "exception": false,
     "start_time": "2021-12-12T04:16:18.628922",
     "status": "completed"
    },
    "tags": []
   },
   "outputs": [],
   "source": [
    "import numpy as np, pandas as pd, matplotlib.pyplot as plt\n",
    "import joblib\n",
    "import sklearn \n",
    "\n",
    "from sklearn.preprocessing import StandardScaler\n",
    "from sklearn.model_selection import train_test_split\n",
    "from sklearn.pipeline import Pipeline\n",
    "from sklearn.compose import ColumnTransformer\n",
    "from sklearn.ensemble import VotingClassifier\n",
    "from sklearn.metrics import confusion_matrix, classification_report\n",
    "from keras.metrics import top_k_categorical_accuracy"
   ]
  },
  {
   "cell_type": "code",
   "execution_count": 2,
   "id": "3a0fccb7",
   "metadata": {
    "execution": {
     "iopub.execute_input": "2021-12-12T04:16:25.502181Z",
     "iopub.status.busy": "2021-12-12T04:16:25.501258Z",
     "iopub.status.idle": "2021-12-12T04:16:25.620593Z",
     "shell.execute_reply": "2021-12-12T04:16:25.621083Z",
     "shell.execute_reply.started": "2021-12-12T04:14:34.542212Z"
    },
    "papermill": {
     "duration": 0.144357,
     "end_time": "2021-12-12T04:16:25.621266",
     "exception": false,
     "start_time": "2021-12-12T04:16:25.476909",
     "status": "completed"
    },
    "tags": []
   },
   "outputs": [
    {
     "data": {
      "text/html": [
       "<div>\n",
       "<style scoped>\n",
       "    .dataframe tbody tr th:only-of-type {\n",
       "        vertical-align: middle;\n",
       "    }\n",
       "\n",
       "    .dataframe tbody tr th {\n",
       "        vertical-align: top;\n",
       "    }\n",
       "\n",
       "    .dataframe thead th {\n",
       "        text-align: right;\n",
       "    }\n",
       "</style>\n",
       "<table border=\"1\" class=\"dataframe\">\n",
       "  <thead>\n",
       "    <tr style=\"text-align: right;\">\n",
       "      <th></th>\n",
       "      <th>Id</th>\n",
       "      <th>Elevation</th>\n",
       "      <th>Aspect</th>\n",
       "      <th>Slope</th>\n",
       "      <th>Horizontal_Distance_To_Hydrology</th>\n",
       "      <th>Vertical_Distance_To_Hydrology</th>\n",
       "      <th>Horizontal_Distance_To_Roadways</th>\n",
       "      <th>Hillshade_9am</th>\n",
       "      <th>Hillshade_Noon</th>\n",
       "      <th>Hillshade_3pm</th>\n",
       "      <th>...</th>\n",
       "      <th>Soil_Type32</th>\n",
       "      <th>Soil_Type33</th>\n",
       "      <th>Soil_Type34</th>\n",
       "      <th>Soil_Type35</th>\n",
       "      <th>Soil_Type36</th>\n",
       "      <th>Soil_Type37</th>\n",
       "      <th>Soil_Type38</th>\n",
       "      <th>Soil_Type39</th>\n",
       "      <th>Soil_Type40</th>\n",
       "      <th>Cover_Type</th>\n",
       "    </tr>\n",
       "  </thead>\n",
       "  <tbody>\n",
       "    <tr>\n",
       "      <th>0</th>\n",
       "      <td>1</td>\n",
       "      <td>2596</td>\n",
       "      <td>51</td>\n",
       "      <td>3</td>\n",
       "      <td>258</td>\n",
       "      <td>0</td>\n",
       "      <td>510</td>\n",
       "      <td>221</td>\n",
       "      <td>232</td>\n",
       "      <td>148</td>\n",
       "      <td>...</td>\n",
       "      <td>0</td>\n",
       "      <td>0</td>\n",
       "      <td>0</td>\n",
       "      <td>0</td>\n",
       "      <td>0</td>\n",
       "      <td>0</td>\n",
       "      <td>0</td>\n",
       "      <td>0</td>\n",
       "      <td>0</td>\n",
       "      <td>5</td>\n",
       "    </tr>\n",
       "    <tr>\n",
       "      <th>1</th>\n",
       "      <td>2</td>\n",
       "      <td>2590</td>\n",
       "      <td>56</td>\n",
       "      <td>2</td>\n",
       "      <td>212</td>\n",
       "      <td>-6</td>\n",
       "      <td>390</td>\n",
       "      <td>220</td>\n",
       "      <td>235</td>\n",
       "      <td>151</td>\n",
       "      <td>...</td>\n",
       "      <td>0</td>\n",
       "      <td>0</td>\n",
       "      <td>0</td>\n",
       "      <td>0</td>\n",
       "      <td>0</td>\n",
       "      <td>0</td>\n",
       "      <td>0</td>\n",
       "      <td>0</td>\n",
       "      <td>0</td>\n",
       "      <td>5</td>\n",
       "    </tr>\n",
       "    <tr>\n",
       "      <th>2</th>\n",
       "      <td>3</td>\n",
       "      <td>2804</td>\n",
       "      <td>139</td>\n",
       "      <td>9</td>\n",
       "      <td>268</td>\n",
       "      <td>65</td>\n",
       "      <td>3180</td>\n",
       "      <td>234</td>\n",
       "      <td>238</td>\n",
       "      <td>135</td>\n",
       "      <td>...</td>\n",
       "      <td>0</td>\n",
       "      <td>0</td>\n",
       "      <td>0</td>\n",
       "      <td>0</td>\n",
       "      <td>0</td>\n",
       "      <td>0</td>\n",
       "      <td>0</td>\n",
       "      <td>0</td>\n",
       "      <td>0</td>\n",
       "      <td>2</td>\n",
       "    </tr>\n",
       "    <tr>\n",
       "      <th>3</th>\n",
       "      <td>4</td>\n",
       "      <td>2785</td>\n",
       "      <td>155</td>\n",
       "      <td>18</td>\n",
       "      <td>242</td>\n",
       "      <td>118</td>\n",
       "      <td>3090</td>\n",
       "      <td>238</td>\n",
       "      <td>238</td>\n",
       "      <td>122</td>\n",
       "      <td>...</td>\n",
       "      <td>0</td>\n",
       "      <td>0</td>\n",
       "      <td>0</td>\n",
       "      <td>0</td>\n",
       "      <td>0</td>\n",
       "      <td>0</td>\n",
       "      <td>0</td>\n",
       "      <td>0</td>\n",
       "      <td>0</td>\n",
       "      <td>2</td>\n",
       "    </tr>\n",
       "    <tr>\n",
       "      <th>4</th>\n",
       "      <td>5</td>\n",
       "      <td>2595</td>\n",
       "      <td>45</td>\n",
       "      <td>2</td>\n",
       "      <td>153</td>\n",
       "      <td>-1</td>\n",
       "      <td>391</td>\n",
       "      <td>220</td>\n",
       "      <td>234</td>\n",
       "      <td>150</td>\n",
       "      <td>...</td>\n",
       "      <td>0</td>\n",
       "      <td>0</td>\n",
       "      <td>0</td>\n",
       "      <td>0</td>\n",
       "      <td>0</td>\n",
       "      <td>0</td>\n",
       "      <td>0</td>\n",
       "      <td>0</td>\n",
       "      <td>0</td>\n",
       "      <td>5</td>\n",
       "    </tr>\n",
       "  </tbody>\n",
       "</table>\n",
       "<p>5 rows × 56 columns</p>\n",
       "</div>"
      ],
      "text/plain": [
       "   Id  Elevation  Aspect  Slope  Horizontal_Distance_To_Hydrology  \\\n",
       "0   1       2596      51      3                               258   \n",
       "1   2       2590      56      2                               212   \n",
       "2   3       2804     139      9                               268   \n",
       "3   4       2785     155     18                               242   \n",
       "4   5       2595      45      2                               153   \n",
       "\n",
       "   Vertical_Distance_To_Hydrology  Horizontal_Distance_To_Roadways  \\\n",
       "0                               0                              510   \n",
       "1                              -6                              390   \n",
       "2                              65                             3180   \n",
       "3                             118                             3090   \n",
       "4                              -1                              391   \n",
       "\n",
       "   Hillshade_9am  Hillshade_Noon  Hillshade_3pm  ...  Soil_Type32  \\\n",
       "0            221             232            148  ...            0   \n",
       "1            220             235            151  ...            0   \n",
       "2            234             238            135  ...            0   \n",
       "3            238             238            122  ...            0   \n",
       "4            220             234            150  ...            0   \n",
       "\n",
       "   Soil_Type33  Soil_Type34  Soil_Type35  Soil_Type36  Soil_Type37  \\\n",
       "0            0            0            0            0            0   \n",
       "1            0            0            0            0            0   \n",
       "2            0            0            0            0            0   \n",
       "3            0            0            0            0            0   \n",
       "4            0            0            0            0            0   \n",
       "\n",
       "   Soil_Type38  Soil_Type39  Soil_Type40  Cover_Type  \n",
       "0            0            0            0           5  \n",
       "1            0            0            0           5  \n",
       "2            0            0            0           2  \n",
       "3            0            0            0           2  \n",
       "4            0            0            0           5  \n",
       "\n",
       "[5 rows x 56 columns]"
      ]
     },
     "execution_count": 2,
     "metadata": {},
     "output_type": "execute_result"
    }
   ],
   "source": [
    "# load data\n",
    "train = pd.read_csv('../input/forest-cover-type-prediction/train.csv')\n",
    "# view data\n",
    "train.head()"
   ]
  },
  {
   "cell_type": "markdown",
   "id": "f190e464",
   "metadata": {
    "papermill": {
     "duration": 0.021109,
     "end_time": "2021-12-12T04:16:25.664037",
     "exception": false,
     "start_time": "2021-12-12T04:16:25.642928",
     "status": "completed"
    },
    "tags": []
   },
   "source": [
    "# Preprocessing"
   ]
  },
  {
   "cell_type": "markdown",
   "id": "9b637f6c",
   "metadata": {
    "papermill": {
     "duration": 0.020952,
     "end_time": "2021-12-12T04:16:25.706282",
     "exception": false,
     "start_time": "2021-12-12T04:16:25.685330",
     "status": "completed"
    },
    "tags": []
   },
   "source": [
    "Next, we will preprocess the data to remove the ID column from the set, add new features from our feature engineering and PCA analysis, split the data into training and validation sets, and scale the data. "
   ]
  },
  {
   "cell_type": "code",
   "execution_count": 3,
   "id": "de1889c5",
   "metadata": {
    "execution": {
     "iopub.execute_input": "2021-12-12T04:16:25.755111Z",
     "iopub.status.busy": "2021-12-12T04:16:25.754486Z",
     "iopub.status.idle": "2021-12-12T04:16:25.766417Z",
     "shell.execute_reply": "2021-12-12T04:16:25.766943Z",
     "shell.execute_reply.started": "2021-12-12T04:14:34.620522Z"
    },
    "papermill": {
     "duration": 0.03942,
     "end_time": "2021-12-12T04:16:25.767113",
     "exception": false,
     "start_time": "2021-12-12T04:16:25.727693",
     "status": "completed"
    },
    "tags": []
   },
   "outputs": [
    {
     "data": {
      "text/html": [
       "<div>\n",
       "<style scoped>\n",
       "    .dataframe tbody tr th:only-of-type {\n",
       "        vertical-align: middle;\n",
       "    }\n",
       "\n",
       "    .dataframe tbody tr th {\n",
       "        vertical-align: top;\n",
       "    }\n",
       "\n",
       "    .dataframe thead th {\n",
       "        text-align: right;\n",
       "    }\n",
       "</style>\n",
       "<table border=\"1\" class=\"dataframe\">\n",
       "  <thead>\n",
       "    <tr style=\"text-align: right;\">\n",
       "      <th></th>\n",
       "      <th>Elevation</th>\n",
       "      <th>Aspect</th>\n",
       "      <th>Slope</th>\n",
       "      <th>Horizontal_Distance_To_Hydrology</th>\n",
       "      <th>Vertical_Distance_To_Hydrology</th>\n",
       "      <th>Horizontal_Distance_To_Roadways</th>\n",
       "      <th>Hillshade_9am</th>\n",
       "      <th>Hillshade_Noon</th>\n",
       "      <th>Hillshade_3pm</th>\n",
       "      <th>Horizontal_Distance_To_Fire_Points</th>\n",
       "      <th>...</th>\n",
       "      <th>Soil_Type32</th>\n",
       "      <th>Soil_Type33</th>\n",
       "      <th>Soil_Type34</th>\n",
       "      <th>Soil_Type35</th>\n",
       "      <th>Soil_Type36</th>\n",
       "      <th>Soil_Type37</th>\n",
       "      <th>Soil_Type38</th>\n",
       "      <th>Soil_Type39</th>\n",
       "      <th>Soil_Type40</th>\n",
       "      <th>Cover_Type</th>\n",
       "    </tr>\n",
       "  </thead>\n",
       "  <tbody>\n",
       "    <tr>\n",
       "      <th>0</th>\n",
       "      <td>2596</td>\n",
       "      <td>51</td>\n",
       "      <td>3</td>\n",
       "      <td>258</td>\n",
       "      <td>0</td>\n",
       "      <td>510</td>\n",
       "      <td>221</td>\n",
       "      <td>232</td>\n",
       "      <td>148</td>\n",
       "      <td>6279</td>\n",
       "      <td>...</td>\n",
       "      <td>0</td>\n",
       "      <td>0</td>\n",
       "      <td>0</td>\n",
       "      <td>0</td>\n",
       "      <td>0</td>\n",
       "      <td>0</td>\n",
       "      <td>0</td>\n",
       "      <td>0</td>\n",
       "      <td>0</td>\n",
       "      <td>5</td>\n",
       "    </tr>\n",
       "    <tr>\n",
       "      <th>1</th>\n",
       "      <td>2590</td>\n",
       "      <td>56</td>\n",
       "      <td>2</td>\n",
       "      <td>212</td>\n",
       "      <td>-6</td>\n",
       "      <td>390</td>\n",
       "      <td>220</td>\n",
       "      <td>235</td>\n",
       "      <td>151</td>\n",
       "      <td>6225</td>\n",
       "      <td>...</td>\n",
       "      <td>0</td>\n",
       "      <td>0</td>\n",
       "      <td>0</td>\n",
       "      <td>0</td>\n",
       "      <td>0</td>\n",
       "      <td>0</td>\n",
       "      <td>0</td>\n",
       "      <td>0</td>\n",
       "      <td>0</td>\n",
       "      <td>5</td>\n",
       "    </tr>\n",
       "    <tr>\n",
       "      <th>2</th>\n",
       "      <td>2804</td>\n",
       "      <td>139</td>\n",
       "      <td>9</td>\n",
       "      <td>268</td>\n",
       "      <td>65</td>\n",
       "      <td>3180</td>\n",
       "      <td>234</td>\n",
       "      <td>238</td>\n",
       "      <td>135</td>\n",
       "      <td>6121</td>\n",
       "      <td>...</td>\n",
       "      <td>0</td>\n",
       "      <td>0</td>\n",
       "      <td>0</td>\n",
       "      <td>0</td>\n",
       "      <td>0</td>\n",
       "      <td>0</td>\n",
       "      <td>0</td>\n",
       "      <td>0</td>\n",
       "      <td>0</td>\n",
       "      <td>2</td>\n",
       "    </tr>\n",
       "    <tr>\n",
       "      <th>3</th>\n",
       "      <td>2785</td>\n",
       "      <td>155</td>\n",
       "      <td>18</td>\n",
       "      <td>242</td>\n",
       "      <td>118</td>\n",
       "      <td>3090</td>\n",
       "      <td>238</td>\n",
       "      <td>238</td>\n",
       "      <td>122</td>\n",
       "      <td>6211</td>\n",
       "      <td>...</td>\n",
       "      <td>0</td>\n",
       "      <td>0</td>\n",
       "      <td>0</td>\n",
       "      <td>0</td>\n",
       "      <td>0</td>\n",
       "      <td>0</td>\n",
       "      <td>0</td>\n",
       "      <td>0</td>\n",
       "      <td>0</td>\n",
       "      <td>2</td>\n",
       "    </tr>\n",
       "    <tr>\n",
       "      <th>4</th>\n",
       "      <td>2595</td>\n",
       "      <td>45</td>\n",
       "      <td>2</td>\n",
       "      <td>153</td>\n",
       "      <td>-1</td>\n",
       "      <td>391</td>\n",
       "      <td>220</td>\n",
       "      <td>234</td>\n",
       "      <td>150</td>\n",
       "      <td>6172</td>\n",
       "      <td>...</td>\n",
       "      <td>0</td>\n",
       "      <td>0</td>\n",
       "      <td>0</td>\n",
       "      <td>0</td>\n",
       "      <td>0</td>\n",
       "      <td>0</td>\n",
       "      <td>0</td>\n",
       "      <td>0</td>\n",
       "      <td>0</td>\n",
       "      <td>5</td>\n",
       "    </tr>\n",
       "  </tbody>\n",
       "</table>\n",
       "<p>5 rows × 55 columns</p>\n",
       "</div>"
      ],
      "text/plain": [
       "   Elevation  Aspect  Slope  Horizontal_Distance_To_Hydrology  \\\n",
       "0       2596      51      3                               258   \n",
       "1       2590      56      2                               212   \n",
       "2       2804     139      9                               268   \n",
       "3       2785     155     18                               242   \n",
       "4       2595      45      2                               153   \n",
       "\n",
       "   Vertical_Distance_To_Hydrology  Horizontal_Distance_To_Roadways  \\\n",
       "0                               0                              510   \n",
       "1                              -6                              390   \n",
       "2                              65                             3180   \n",
       "3                             118                             3090   \n",
       "4                              -1                              391   \n",
       "\n",
       "   Hillshade_9am  Hillshade_Noon  Hillshade_3pm  \\\n",
       "0            221             232            148   \n",
       "1            220             235            151   \n",
       "2            234             238            135   \n",
       "3            238             238            122   \n",
       "4            220             234            150   \n",
       "\n",
       "   Horizontal_Distance_To_Fire_Points  ...  Soil_Type32  Soil_Type33  \\\n",
       "0                                6279  ...            0            0   \n",
       "1                                6225  ...            0            0   \n",
       "2                                6121  ...            0            0   \n",
       "3                                6211  ...            0            0   \n",
       "4                                6172  ...            0            0   \n",
       "\n",
       "   Soil_Type34  Soil_Type35  Soil_Type36  Soil_Type37  Soil_Type38  \\\n",
       "0            0            0            0            0            0   \n",
       "1            0            0            0            0            0   \n",
       "2            0            0            0            0            0   \n",
       "3            0            0            0            0            0   \n",
       "4            0            0            0            0            0   \n",
       "\n",
       "   Soil_Type39  Soil_Type40  Cover_Type  \n",
       "0            0            0           5  \n",
       "1            0            0           5  \n",
       "2            0            0           2  \n",
       "3            0            0           2  \n",
       "4            0            0           5  \n",
       "\n",
       "[5 rows x 55 columns]"
      ]
     },
     "execution_count": 3,
     "metadata": {},
     "output_type": "execute_result"
    }
   ],
   "source": [
    "# remove ID column from set\n",
    "train = train.iloc[:, 1:]\n",
    "train.head()"
   ]
  },
  {
   "cell_type": "code",
   "execution_count": 4,
   "id": "6f7053cd",
   "metadata": {
    "execution": {
     "iopub.execute_input": "2021-12-12T04:16:25.816510Z",
     "iopub.status.busy": "2021-12-12T04:16:25.815753Z",
     "iopub.status.idle": "2021-12-12T04:16:25.831114Z",
     "shell.execute_reply": "2021-12-12T04:16:25.831646Z",
     "shell.execute_reply.started": "2021-12-12T04:14:34.640338Z"
    },
    "papermill": {
     "duration": 0.041076,
     "end_time": "2021-12-12T04:16:25.831821",
     "exception": false,
     "start_time": "2021-12-12T04:16:25.790745",
     "status": "completed"
    },
    "tags": []
   },
   "outputs": [],
   "source": [
    "# add new features from feature engineering\n",
    "train['Elev_to_Horizontal_Hyd'] = train.Elevation - 0.2 * train.Horizontal_Distance_To_Hydrology \n",
    "train['Elev_to_Horizontal_Road'] = train.Elevation - 0.05 * train.Horizontal_Distance_To_Roadways  \n",
    "train['Elev_to_Verticle_Hyd'] = train.Elevation - train.Vertical_Distance_To_Hydrology \n",
    "train['Mean_Horizontal_Dist'] = (train.Horizontal_Distance_To_Fire_Points + train.Horizontal_Distance_To_Hydrology + \n",
    "                                 train.Horizontal_Distance_To_Roadways)/3 \n",
    "train['Mean_Fire_Hydro'] = (train.Horizontal_Distance_To_Fire_Points + train.Horizontal_Distance_To_Hydrology)/2"
   ]
  },
  {
   "cell_type": "code",
   "execution_count": 5,
   "id": "4dac93d8",
   "metadata": {
    "execution": {
     "iopub.execute_input": "2021-12-12T04:16:25.878700Z",
     "iopub.status.busy": "2021-12-12T04:16:25.878094Z",
     "iopub.status.idle": "2021-12-12T04:16:25.900806Z",
     "shell.execute_reply": "2021-12-12T04:16:25.901316Z",
     "shell.execute_reply.started": "2021-12-12T04:14:34.658661Z"
    },
    "papermill": {
     "duration": 0.047599,
     "end_time": "2021-12-12T04:16:25.901510",
     "exception": false,
     "start_time": "2021-12-12T04:16:25.853911",
     "status": "completed"
    },
    "tags": []
   },
   "outputs": [
    {
     "data": {
      "text/html": [
       "<div>\n",
       "<style scoped>\n",
       "    .dataframe tbody tr th:only-of-type {\n",
       "        vertical-align: middle;\n",
       "    }\n",
       "\n",
       "    .dataframe tbody tr th {\n",
       "        vertical-align: top;\n",
       "    }\n",
       "\n",
       "    .dataframe thead th {\n",
       "        text-align: right;\n",
       "    }\n",
       "</style>\n",
       "<table border=\"1\" class=\"dataframe\">\n",
       "  <thead>\n",
       "    <tr style=\"text-align: right;\">\n",
       "      <th></th>\n",
       "      <th>Cover_Type</th>\n",
       "      <th>Elevation</th>\n",
       "      <th>Aspect</th>\n",
       "      <th>Slope</th>\n",
       "      <th>Horizontal_Distance_To_Hydrology</th>\n",
       "      <th>Vertical_Distance_To_Hydrology</th>\n",
       "      <th>Horizontal_Distance_To_Roadways</th>\n",
       "      <th>Hillshade_9am</th>\n",
       "      <th>Hillshade_Noon</th>\n",
       "      <th>Hillshade_3pm</th>\n",
       "      <th>...</th>\n",
       "      <th>Soil_Type36</th>\n",
       "      <th>Soil_Type37</th>\n",
       "      <th>Soil_Type38</th>\n",
       "      <th>Soil_Type39</th>\n",
       "      <th>Soil_Type40</th>\n",
       "      <th>Elev_to_Horizontal_Hyd</th>\n",
       "      <th>Elev_to_Horizontal_Road</th>\n",
       "      <th>Elev_to_Verticle_Hyd</th>\n",
       "      <th>Mean_Horizontal_Dist</th>\n",
       "      <th>Mean_Fire_Hydro</th>\n",
       "    </tr>\n",
       "  </thead>\n",
       "  <tbody>\n",
       "    <tr>\n",
       "      <th>0</th>\n",
       "      <td>5</td>\n",
       "      <td>2596</td>\n",
       "      <td>51</td>\n",
       "      <td>3</td>\n",
       "      <td>258</td>\n",
       "      <td>0</td>\n",
       "      <td>510</td>\n",
       "      <td>221</td>\n",
       "      <td>232</td>\n",
       "      <td>148</td>\n",
       "      <td>...</td>\n",
       "      <td>0</td>\n",
       "      <td>0</td>\n",
       "      <td>0</td>\n",
       "      <td>0</td>\n",
       "      <td>0</td>\n",
       "      <td>2544.4</td>\n",
       "      <td>2570.50</td>\n",
       "      <td>2596</td>\n",
       "      <td>2349.000000</td>\n",
       "      <td>3268.5</td>\n",
       "    </tr>\n",
       "    <tr>\n",
       "      <th>1</th>\n",
       "      <td>5</td>\n",
       "      <td>2590</td>\n",
       "      <td>56</td>\n",
       "      <td>2</td>\n",
       "      <td>212</td>\n",
       "      <td>-6</td>\n",
       "      <td>390</td>\n",
       "      <td>220</td>\n",
       "      <td>235</td>\n",
       "      <td>151</td>\n",
       "      <td>...</td>\n",
       "      <td>0</td>\n",
       "      <td>0</td>\n",
       "      <td>0</td>\n",
       "      <td>0</td>\n",
       "      <td>0</td>\n",
       "      <td>2547.6</td>\n",
       "      <td>2570.50</td>\n",
       "      <td>2596</td>\n",
       "      <td>2275.666667</td>\n",
       "      <td>3218.5</td>\n",
       "    </tr>\n",
       "    <tr>\n",
       "      <th>2</th>\n",
       "      <td>2</td>\n",
       "      <td>2804</td>\n",
       "      <td>139</td>\n",
       "      <td>9</td>\n",
       "      <td>268</td>\n",
       "      <td>65</td>\n",
       "      <td>3180</td>\n",
       "      <td>234</td>\n",
       "      <td>238</td>\n",
       "      <td>135</td>\n",
       "      <td>...</td>\n",
       "      <td>0</td>\n",
       "      <td>0</td>\n",
       "      <td>0</td>\n",
       "      <td>0</td>\n",
       "      <td>0</td>\n",
       "      <td>2750.4</td>\n",
       "      <td>2645.00</td>\n",
       "      <td>2739</td>\n",
       "      <td>3189.666667</td>\n",
       "      <td>3194.5</td>\n",
       "    </tr>\n",
       "    <tr>\n",
       "      <th>3</th>\n",
       "      <td>2</td>\n",
       "      <td>2785</td>\n",
       "      <td>155</td>\n",
       "      <td>18</td>\n",
       "      <td>242</td>\n",
       "      <td>118</td>\n",
       "      <td>3090</td>\n",
       "      <td>238</td>\n",
       "      <td>238</td>\n",
       "      <td>122</td>\n",
       "      <td>...</td>\n",
       "      <td>0</td>\n",
       "      <td>0</td>\n",
       "      <td>0</td>\n",
       "      <td>0</td>\n",
       "      <td>0</td>\n",
       "      <td>2736.6</td>\n",
       "      <td>2630.50</td>\n",
       "      <td>2667</td>\n",
       "      <td>3181.000000</td>\n",
       "      <td>3226.5</td>\n",
       "    </tr>\n",
       "    <tr>\n",
       "      <th>4</th>\n",
       "      <td>5</td>\n",
       "      <td>2595</td>\n",
       "      <td>45</td>\n",
       "      <td>2</td>\n",
       "      <td>153</td>\n",
       "      <td>-1</td>\n",
       "      <td>391</td>\n",
       "      <td>220</td>\n",
       "      <td>234</td>\n",
       "      <td>150</td>\n",
       "      <td>...</td>\n",
       "      <td>0</td>\n",
       "      <td>0</td>\n",
       "      <td>0</td>\n",
       "      <td>0</td>\n",
       "      <td>0</td>\n",
       "      <td>2564.4</td>\n",
       "      <td>2575.45</td>\n",
       "      <td>2596</td>\n",
       "      <td>2238.666667</td>\n",
       "      <td>3162.5</td>\n",
       "    </tr>\n",
       "  </tbody>\n",
       "</table>\n",
       "<p>5 rows × 60 columns</p>\n",
       "</div>"
      ],
      "text/plain": [
       "   Cover_Type  Elevation  Aspect  Slope  Horizontal_Distance_To_Hydrology  \\\n",
       "0           5       2596      51      3                               258   \n",
       "1           5       2590      56      2                               212   \n",
       "2           2       2804     139      9                               268   \n",
       "3           2       2785     155     18                               242   \n",
       "4           5       2595      45      2                               153   \n",
       "\n",
       "   Vertical_Distance_To_Hydrology  Horizontal_Distance_To_Roadways  \\\n",
       "0                               0                              510   \n",
       "1                              -6                              390   \n",
       "2                              65                             3180   \n",
       "3                             118                             3090   \n",
       "4                              -1                              391   \n",
       "\n",
       "   Hillshade_9am  Hillshade_Noon  Hillshade_3pm  ...  Soil_Type36  \\\n",
       "0            221             232            148  ...            0   \n",
       "1            220             235            151  ...            0   \n",
       "2            234             238            135  ...            0   \n",
       "3            238             238            122  ...            0   \n",
       "4            220             234            150  ...            0   \n",
       "\n",
       "   Soil_Type37  Soil_Type38  Soil_Type39  Soil_Type40  Elev_to_Horizontal_Hyd  \\\n",
       "0            0            0            0            0                  2544.4   \n",
       "1            0            0            0            0                  2547.6   \n",
       "2            0            0            0            0                  2750.4   \n",
       "3            0            0            0            0                  2736.6   \n",
       "4            0            0            0            0                  2564.4   \n",
       "\n",
       "   Elev_to_Horizontal_Road  Elev_to_Verticle_Hyd  Mean_Horizontal_Dist  \\\n",
       "0                  2570.50                  2596           2349.000000   \n",
       "1                  2570.50                  2596           2275.666667   \n",
       "2                  2645.00                  2739           3189.666667   \n",
       "3                  2630.50                  2667           3181.000000   \n",
       "4                  2575.45                  2596           2238.666667   \n",
       "\n",
       "   Mean_Fire_Hydro  \n",
       "0           3268.5  \n",
       "1           3218.5  \n",
       "2           3194.5  \n",
       "3           3226.5  \n",
       "4           3162.5  \n",
       "\n",
       "[5 rows x 60 columns]"
      ]
     },
     "execution_count": 5,
     "metadata": {},
     "output_type": "execute_result"
    }
   ],
   "source": [
    "# move target to first column\n",
    "first_column = train.pop('Cover_Type')\n",
    "  \n",
    "# insert column using insert(position,column_name,first_column) function\n",
    "train.insert(0, 'Cover_Type', first_column)\n",
    "  \n",
    "# view\n",
    "train.head()"
   ]
  },
  {
   "cell_type": "code",
   "execution_count": 6,
   "id": "3edf041c",
   "metadata": {
    "execution": {
     "iopub.execute_input": "2021-12-12T04:16:25.952222Z",
     "iopub.status.busy": "2021-12-12T04:16:25.951630Z",
     "iopub.status.idle": "2021-12-12T04:16:25.967574Z",
     "shell.execute_reply": "2021-12-12T04:16:25.968064Z",
     "shell.execute_reply.started": "2021-12-12T04:14:34.926113Z"
    },
    "papermill": {
     "duration": 0.043516,
     "end_time": "2021-12-12T04:16:25.968231",
     "exception": false,
     "start_time": "2021-12-12T04:16:25.924715",
     "status": "completed"
    },
    "tags": []
   },
   "outputs": [],
   "source": [
    "# create cat, num, and y\n",
    "X_cat = train.iloc[:, 11:55].values\n",
    "B = train.iloc[:, 55:60]\n",
    "A = train.iloc[:, 1:11]\n",
    "X_num = pd.concat([A, B], axis = 1).values\n",
    "y = train.iloc[:, 0].values"
   ]
  },
  {
   "cell_type": "code",
   "execution_count": 7,
   "id": "9fa1826c",
   "metadata": {
    "execution": {
     "iopub.execute_input": "2021-12-12T04:16:26.017965Z",
     "iopub.status.busy": "2021-12-12T04:16:26.016987Z",
     "iopub.status.idle": "2021-12-12T04:16:26.026840Z",
     "shell.execute_reply": "2021-12-12T04:16:26.027398Z",
     "shell.execute_reply.started": "2021-12-12T04:14:34.940859Z"
    },
    "papermill": {
     "duration": 0.036772,
     "end_time": "2021-12-12T04:16:26.027574",
     "exception": false,
     "start_time": "2021-12-12T04:16:25.990802",
     "status": "completed"
    },
    "tags": []
   },
   "outputs": [
    {
     "name": "stdout",
     "output_type": "stream",
     "text": [
      "Categorical Shape: (15120, 44)\n",
      "Numerical Shape: (15120, 15)\n",
      "Label Shape: (15120,)\n"
     ]
    }
   ],
   "source": [
    "# scale/standardizing numerical columns\n",
    "# scaler object\n",
    "scaler = StandardScaler()\n",
    "# fit to training data\n",
    "scaler.fit(X_num)\n",
    "# scale num columns\n",
    "X_num = scaler.transform(X_num)\n",
    "\n",
    "# shape\n",
    "print(f'Categorical Shape: {X_cat.shape}')\n",
    "print(f'Numerical Shape: {X_num.shape}')\n",
    "print(f'Label Shape: {y.shape}')"
   ]
  },
  {
   "cell_type": "code",
   "execution_count": 8,
   "id": "891bab35",
   "metadata": {
    "execution": {
     "iopub.execute_input": "2021-12-12T04:16:26.076583Z",
     "iopub.status.busy": "2021-12-12T04:16:26.075981Z",
     "iopub.status.idle": "2021-12-12T04:16:26.085252Z",
     "shell.execute_reply": "2021-12-12T04:16:26.085720Z",
     "shell.execute_reply.started": "2021-12-12T04:14:34.956586Z"
    },
    "papermill": {
     "duration": 0.035594,
     "end_time": "2021-12-12T04:16:26.085995",
     "exception": false,
     "start_time": "2021-12-12T04:16:26.050401",
     "status": "completed"
    },
    "tags": []
   },
   "outputs": [
    {
     "name": "stdout",
     "output_type": "stream",
     "text": [
      "(15120, 59)\n"
     ]
    }
   ],
   "source": [
    "# combine num and cat\n",
    "X = np.hstack((X_num, X_cat))\n",
    "print(X.shape)"
   ]
  },
  {
   "cell_type": "code",
   "execution_count": 9,
   "id": "c8ae64f5",
   "metadata": {
    "execution": {
     "iopub.execute_input": "2021-12-12T04:16:26.140741Z",
     "iopub.status.busy": "2021-12-12T04:16:26.139962Z",
     "iopub.status.idle": "2021-12-12T04:16:26.152160Z",
     "shell.execute_reply": "2021-12-12T04:16:26.152921Z",
     "shell.execute_reply.started": "2021-12-12T04:14:34.967012Z"
    },
    "papermill": {
     "duration": 0.044063,
     "end_time": "2021-12-12T04:16:26.153147",
     "exception": false,
     "start_time": "2021-12-12T04:16:26.109084",
     "status": "completed"
    },
    "tags": []
   },
   "outputs": [
    {
     "name": "stdout",
     "output_type": "stream",
     "text": [
      "(12096, 59)\n",
      "(3024, 59)\n",
      "(12096,)\n",
      "(3024,)\n"
     ]
    }
   ],
   "source": [
    "# train/validate split\n",
    "X_train, X_valid, y_train, y_valid = train_test_split(X, y, test_size = .20, random_state = 1)\n",
    "print(X_train.shape)\n",
    "print(X_valid.shape)\n",
    "print(y_train.shape)\n",
    "print(y_valid.shape)"
   ]
  },
  {
   "cell_type": "markdown",
   "id": "02332231",
   "metadata": {
    "papermill": {
     "duration": 0.023766,
     "end_time": "2021-12-12T04:16:26.201775",
     "exception": false,
     "start_time": "2021-12-12T04:16:26.178009",
     "status": "completed"
    },
    "tags": []
   },
   "source": [
    "# Load Model"
   ]
  },
  {
   "cell_type": "markdown",
   "id": "d9b41f94",
   "metadata": {
    "papermill": {
     "duration": 0.023773,
     "end_time": "2021-12-12T04:16:26.250080",
     "exception": false,
     "start_time": "2021-12-12T04:16:26.226307",
     "status": "completed"
    },
    "tags": []
   },
   "source": [
    "Below, we will load in the best model from our Training Model Notebook and fit it to the training set. Normally, we would not refit the model, but we are interested in exploring the strength of the model by splitting the training set into a training and validation set, so we need to refit it to the training portion of the data."
   ]
  },
  {
   "cell_type": "code",
   "execution_count": 10,
   "id": "f7ee6621",
   "metadata": {
    "execution": {
     "iopub.execute_input": "2021-12-12T04:16:26.303087Z",
     "iopub.status.busy": "2021-12-12T04:16:26.302408Z",
     "iopub.status.idle": "2021-12-12T04:16:36.130934Z",
     "shell.execute_reply": "2021-12-12T04:16:36.130086Z",
     "shell.execute_reply.started": "2021-12-12T04:14:34.983909Z"
    },
    "papermill": {
     "duration": 9.856322,
     "end_time": "2021-12-12T04:16:36.131163",
     "exception": false,
     "start_time": "2021-12-12T04:16:26.274841",
     "status": "completed"
    },
    "tags": []
   },
   "outputs": [],
   "source": [
    "# load final model\n",
    "final_model = joblib.load('../input/g2-forestcovertype-finalmodels/tree_model_final.joblib')"
   ]
  },
  {
   "cell_type": "code",
   "execution_count": 11,
   "id": "609053c4",
   "metadata": {
    "execution": {
     "iopub.execute_input": "2021-12-12T04:16:36.184930Z",
     "iopub.status.busy": "2021-12-12T04:16:36.183631Z",
     "iopub.status.idle": "2021-12-12T04:16:51.516316Z",
     "shell.execute_reply": "2021-12-12T04:16:51.515808Z",
     "shell.execute_reply.started": "2021-12-12T04:14:37.211801Z"
    },
    "papermill": {
     "duration": 15.360748,
     "end_time": "2021-12-12T04:16:51.516507",
     "exception": false,
     "start_time": "2021-12-12T04:16:36.155759",
     "status": "completed"
    },
    "tags": []
   },
   "outputs": [
    {
     "data": {
      "text/plain": [
       "ExtraTreesClassifier(max_depth=33, n_estimators=1000, random_state=1)"
      ]
     },
     "execution_count": 11,
     "metadata": {},
     "output_type": "execute_result"
    }
   ],
   "source": [
    "# fit model to training set \n",
    "final_model.fit(X_train, y_train)"
   ]
  },
  {
   "cell_type": "markdown",
   "id": "a2a00dab",
   "metadata": {
    "papermill": {
     "duration": 0.024139,
     "end_time": "2021-12-12T04:16:51.564847",
     "exception": false,
     "start_time": "2021-12-12T04:16:51.540708",
     "status": "completed"
    },
    "tags": []
   },
   "source": [
    "# Accuracy\n",
    "As we do not have access to the labels for the test set for the Forest Cover Type competition, we are going to examine the accuracy of the model with a validation set. "
   ]
  },
  {
   "cell_type": "code",
   "execution_count": 12,
   "id": "5518d11e",
   "metadata": {
    "execution": {
     "iopub.execute_input": "2021-12-12T04:16:51.617171Z",
     "iopub.status.busy": "2021-12-12T04:16:51.616553Z",
     "iopub.status.idle": "2021-12-12T04:16:56.076836Z",
     "shell.execute_reply": "2021-12-12T04:16:56.077272Z",
     "shell.execute_reply.started": "2021-12-12T04:14:52.151264Z"
    },
    "papermill": {
     "duration": 4.489087,
     "end_time": "2021-12-12T04:16:56.077533",
     "exception": false,
     "start_time": "2021-12-12T04:16:51.588446",
     "status": "completed"
    },
    "tags": []
   },
   "outputs": [
    {
     "name": "stdout",
     "output_type": "stream",
     "text": [
      "Training Accuracy for Final Model {1.0}\n",
      "Validation Accuracy for Final Model {0.8932}\n"
     ]
    }
   ],
   "source": [
    "# score for training set\n",
    "train_acc = final_model.score(X_train, y_train)\n",
    "# score for validation set\n",
    "valid_acc = final_model.score(X_valid, y_valid)\n",
    "\n",
    "print('Training Accuracy for Final Model', {round(train_acc, 4)})\n",
    "print('Validation Accuracy for Final Model', {round(valid_acc, 4)})"
   ]
  },
  {
   "cell_type": "markdown",
   "id": "b9cab248",
   "metadata": {
    "papermill": {
     "duration": 0.024625,
     "end_time": "2021-12-12T04:16:56.127201",
     "exception": false,
     "start_time": "2021-12-12T04:16:56.102576",
     "status": "completed"
    },
    "tags": []
   },
   "source": [
    "The training accuracy for the model is 1.0, with the validation accuracy at .8932. This means that the model is overfitting the training set. \n",
    "The validation score is .8932 and the test score accuracy is .7962. This means that the model is fitting the validation set better than the test set. "
   ]
  },
  {
   "cell_type": "code",
   "execution_count": 13,
   "id": "380faf73",
   "metadata": {
    "execution": {
     "iopub.execute_input": "2021-12-12T04:16:56.182052Z",
     "iopub.status.busy": "2021-12-12T04:16:56.181398Z",
     "iopub.status.idle": "2021-12-12T04:16:58.247230Z",
     "shell.execute_reply": "2021-12-12T04:16:58.246677Z",
     "shell.execute_reply.started": "2021-12-12T04:14:56.643268Z"
    },
    "papermill": {
     "duration": 2.095272,
     "end_time": "2021-12-12T04:16:58.247406",
     "exception": false,
     "start_time": "2021-12-12T04:16:56.152134",
     "status": "completed"
    },
    "tags": []
   },
   "outputs": [],
   "source": [
    "# predictions\n",
    "valid_pred = final_model.predict(X_valid)\n",
    "# prob predictions\n",
    "valid_proba = final_model.predict_proba(X_valid)"
   ]
  },
  {
   "cell_type": "markdown",
   "id": "f7e1a44a",
   "metadata": {
    "papermill": {
     "duration": 0.024115,
     "end_time": "2021-12-12T04:16:58.296155",
     "exception": false,
     "start_time": "2021-12-12T04:16:58.272040",
     "status": "completed"
    },
    "tags": []
   },
   "source": [
    "# Top K-Accuracy"
   ]
  },
  {
   "cell_type": "markdown",
   "id": "63910745",
   "metadata": {
    "papermill": {
     "duration": 0.025836,
     "end_time": "2021-12-12T04:16:58.346102",
     "exception": false,
     "start_time": "2021-12-12T04:16:58.320266",
     "status": "completed"
    },
    "tags": []
   },
   "source": [
    "We will now explore the accuracy of the final model by calculating the top number of successes of finding the actual label in the top 2 and 3 predicted labels."
   ]
  },
  {
   "cell_type": "code",
   "execution_count": 14,
   "id": "21f3b94e",
   "metadata": {
    "execution": {
     "iopub.execute_input": "2021-12-12T04:16:58.401162Z",
     "iopub.status.busy": "2021-12-12T04:16:58.400534Z",
     "iopub.status.idle": "2021-12-12T04:16:58.403305Z",
     "shell.execute_reply": "2021-12-12T04:16:58.402797Z",
     "shell.execute_reply.started": "2021-12-12T04:14:58.872627Z"
    },
    "papermill": {
     "duration": 0.033206,
     "end_time": "2021-12-12T04:16:58.403468",
     "exception": false,
     "start_time": "2021-12-12T04:16:58.370262",
     "status": "completed"
    },
    "tags": []
   },
   "outputs": [],
   "source": [
    "def top_k_accuracy(y_true, pred_prob, K):\n",
    "    count = 0\n",
    "    for i in range(len(y_true)):\n",
    "        p = pred_prob[i, :]          # Get predictions for current observation\n",
    "        rank = np.argsort(p) + 1     # Rank classes in increasing order; add 1 to get from 0-6 to 1-7 for label\n",
    "        correct = y_true[i]          # Get correct class.\n",
    "        if correct in rank[-K:]:     # See if correct class is in top k\n",
    "            count += 1               # Increment count if so.\n",
    "\n",
    "    return count / len(y_true)       # Return score"
   ]
  },
  {
   "cell_type": "code",
   "execution_count": 15,
   "id": "169adaf9",
   "metadata": {
    "execution": {
     "iopub.execute_input": "2021-12-12T04:16:58.503202Z",
     "iopub.status.busy": "2021-12-12T04:16:58.494154Z",
     "iopub.status.idle": "2021-12-12T04:16:58.506708Z",
     "shell.execute_reply": "2021-12-12T04:16:58.507329Z",
     "shell.execute_reply.started": "2021-12-12T04:14:58.883874Z"
    },
    "papermill": {
     "duration": 0.080302,
     "end_time": "2021-12-12T04:16:58.507593",
     "exception": false,
     "start_time": "2021-12-12T04:16:58.427291",
     "status": "completed"
    },
    "tags": []
   },
   "outputs": [
    {
     "name": "stdout",
     "output_type": "stream",
     "text": [
      "0.9798\n"
     ]
    }
   ],
   "source": [
    "# calculate accuracy for top 2 predictions\n",
    "top_2_accuracy = top_k_accuracy(y_valid, valid_proba, 2)\n",
    "print(round(top_2_accuracy, 4))"
   ]
  },
  {
   "cell_type": "code",
   "execution_count": 16,
   "id": "b4f81d64",
   "metadata": {
    "execution": {
     "iopub.execute_input": "2021-12-12T04:16:58.561327Z",
     "iopub.status.busy": "2021-12-12T04:16:58.560701Z",
     "iopub.status.idle": "2021-12-12T04:16:58.589028Z",
     "shell.execute_reply": "2021-12-12T04:16:58.589561Z",
     "shell.execute_reply.started": "2021-12-12T04:14:58.949315Z"
    },
    "papermill": {
     "duration": 0.057068,
     "end_time": "2021-12-12T04:16:58.589738",
     "exception": false,
     "start_time": "2021-12-12T04:16:58.532670",
     "status": "completed"
    },
    "tags": []
   },
   "outputs": [
    {
     "name": "stdout",
     "output_type": "stream",
     "text": [
      "0.9954\n"
     ]
    }
   ],
   "source": [
    "# calculate accuracy for top 3 predictions\n",
    "top_3_accuracy = top_k_accuracy(y_valid, valid_proba, 3)\n",
    "print(round(top_3_accuracy, 4))"
   ]
  },
  {
   "cell_type": "markdown",
   "id": "c1ebd4b3",
   "metadata": {
    "papermill": {
     "duration": 0.02479,
     "end_time": "2021-12-12T04:16:58.639517",
     "exception": false,
     "start_time": "2021-12-12T04:16:58.614727",
     "status": "completed"
    },
    "tags": []
   },
   "source": [
    "While the model is 89.32% accurate on the validation set for predicting the correct label, the model is 97.98% accurate at predicting the label that is in the top 2 for each cover type and 99.54% accurate at predicting the label that is within the top 3 for each cover type. If selecting a model where predicting within the top 2 classifications were acceptable, then this model would be very strong. "
   ]
  },
  {
   "cell_type": "markdown",
   "id": "8037044a",
   "metadata": {
    "papermill": {
     "duration": 0.024336,
     "end_time": "2021-12-12T04:16:58.688971",
     "exception": false,
     "start_time": "2021-12-12T04:16:58.664635",
     "status": "completed"
    },
    "tags": []
   },
   "source": [
    "# Classification Report\n",
    "\n",
    "One of the ways to assess the accuracy of our model is through examining precision and recall. The classification report below includes the precision and recall for each cover type. "
   ]
  },
  {
   "cell_type": "code",
   "execution_count": 17,
   "id": "78480fe9",
   "metadata": {
    "execution": {
     "iopub.execute_input": "2021-12-12T04:16:58.742652Z",
     "iopub.status.busy": "2021-12-12T04:16:58.741963Z",
     "iopub.status.idle": "2021-12-12T04:16:58.754956Z",
     "shell.execute_reply": "2021-12-12T04:16:58.755462Z",
     "shell.execute_reply.started": "2021-12-12T04:14:59.014190Z"
    },
    "papermill": {
     "duration": 0.041792,
     "end_time": "2021-12-12T04:16:58.755632",
     "exception": false,
     "start_time": "2021-12-12T04:16:58.713840",
     "status": "completed"
    },
    "tags": []
   },
   "outputs": [
    {
     "name": "stdout",
     "output_type": "stream",
     "text": [
      "              precision    recall  f1-score   support\n",
      "\n",
      "           1       0.81      0.78      0.80       434\n",
      "           2       0.83      0.74      0.78       458\n",
      "           3       0.91      0.90      0.90       437\n",
      "           4       0.96      0.98      0.97       447\n",
      "           5       0.90      0.96      0.93       418\n",
      "           6       0.90      0.94      0.92       411\n",
      "           7       0.92      0.97      0.95       419\n",
      "\n",
      "    accuracy                           0.89      3024\n",
      "   macro avg       0.89      0.90      0.89      3024\n",
      "weighted avg       0.89      0.89      0.89      3024\n",
      "\n"
     ]
    }
   ],
   "source": [
    "# classification report\n",
    "c_report = classification_report(y_valid, valid_pred)\n",
    "print(c_report)"
   ]
  },
  {
   "cell_type": "markdown",
   "id": "ca0c2093",
   "metadata": {
    "papermill": {
     "duration": 0.024934,
     "end_time": "2021-12-12T04:16:58.805916",
     "exception": false,
     "start_time": "2021-12-12T04:16:58.780982",
     "status": "completed"
    },
    "tags": []
   },
   "source": [
    "Precision = TP/TP + FP\n",
    "\n",
    "Recall = TP/TP + FN\n",
    "\n",
    "- The model precision was highest for Cover Type 4. \n",
    "- The model recall was highest for Cover Type 4 as well. \n",
    "- The model also yielded the highest f1-score for Cover Type 4. \n",
    "\n",
    "This makes sense as the support for Cover Type 4 was among the top 2 most common cover types in the data set. \n"
   ]
  },
  {
   "cell_type": "markdown",
   "id": "0eac2e2e",
   "metadata": {
    "papermill": {
     "duration": 0.024191,
     "end_time": "2021-12-12T04:16:58.854603",
     "exception": false,
     "start_time": "2021-12-12T04:16:58.830412",
     "status": "completed"
    },
    "tags": []
   },
   "source": [
    "# Confusion Matrix\n",
    "\n",
    "We will now examine the accuracy of the model via a confusion matrix. The confusion matrix displays the number of times the cover type was classified correctly and how many times it was misclassified as another cover type. "
   ]
  },
  {
   "cell_type": "code",
   "execution_count": 18,
   "id": "010f2e46",
   "metadata": {
    "execution": {
     "iopub.execute_input": "2021-12-12T04:16:58.969493Z",
     "iopub.status.busy": "2021-12-12T04:16:58.968844Z",
     "iopub.status.idle": "2021-12-12T04:16:58.985639Z",
     "shell.execute_reply": "2021-12-12T04:16:58.986072Z",
     "shell.execute_reply.started": "2021-12-12T04:14:59.032531Z"
    },
    "papermill": {
     "duration": 0.107052,
     "end_time": "2021-12-12T04:16:58.986249",
     "exception": false,
     "start_time": "2021-12-12T04:16:58.879197",
     "status": "completed"
    },
    "tags": []
   },
   "outputs": [
    {
     "data": {
      "text/html": [
       "<div>\n",
       "<style scoped>\n",
       "    .dataframe tbody tr th:only-of-type {\n",
       "        vertical-align: middle;\n",
       "    }\n",
       "\n",
       "    .dataframe tbody tr th {\n",
       "        vertical-align: top;\n",
       "    }\n",
       "\n",
       "    .dataframe thead th {\n",
       "        text-align: right;\n",
       "    }\n",
       "</style>\n",
       "<table border=\"1\" class=\"dataframe\">\n",
       "  <thead>\n",
       "    <tr style=\"text-align: right;\">\n",
       "      <th></th>\n",
       "      <th>1</th>\n",
       "      <th>2</th>\n",
       "      <th>3</th>\n",
       "      <th>4</th>\n",
       "      <th>5</th>\n",
       "      <th>6</th>\n",
       "      <th>7</th>\n",
       "    </tr>\n",
       "  </thead>\n",
       "  <tbody>\n",
       "    <tr>\n",
       "      <th>1</th>\n",
       "      <td>340</td>\n",
       "      <td>57</td>\n",
       "      <td>0</td>\n",
       "      <td>0</td>\n",
       "      <td>5</td>\n",
       "      <td>0</td>\n",
       "      <td>32</td>\n",
       "    </tr>\n",
       "    <tr>\n",
       "      <th>2</th>\n",
       "      <td>68</td>\n",
       "      <td>338</td>\n",
       "      <td>10</td>\n",
       "      <td>0</td>\n",
       "      <td>33</td>\n",
       "      <td>8</td>\n",
       "      <td>1</td>\n",
       "    </tr>\n",
       "    <tr>\n",
       "      <th>3</th>\n",
       "      <td>0</td>\n",
       "      <td>1</td>\n",
       "      <td>392</td>\n",
       "      <td>13</td>\n",
       "      <td>4</td>\n",
       "      <td>27</td>\n",
       "      <td>0</td>\n",
       "    </tr>\n",
       "    <tr>\n",
       "      <th>4</th>\n",
       "      <td>0</td>\n",
       "      <td>0</td>\n",
       "      <td>5</td>\n",
       "      <td>440</td>\n",
       "      <td>0</td>\n",
       "      <td>2</td>\n",
       "      <td>0</td>\n",
       "    </tr>\n",
       "    <tr>\n",
       "      <th>5</th>\n",
       "      <td>0</td>\n",
       "      <td>6</td>\n",
       "      <td>7</td>\n",
       "      <td>0</td>\n",
       "      <td>401</td>\n",
       "      <td>4</td>\n",
       "      <td>0</td>\n",
       "    </tr>\n",
       "    <tr>\n",
       "      <th>6</th>\n",
       "      <td>0</td>\n",
       "      <td>3</td>\n",
       "      <td>16</td>\n",
       "      <td>5</td>\n",
       "      <td>2</td>\n",
       "      <td>385</td>\n",
       "      <td>0</td>\n",
       "    </tr>\n",
       "    <tr>\n",
       "      <th>7</th>\n",
       "      <td>12</td>\n",
       "      <td>2</td>\n",
       "      <td>0</td>\n",
       "      <td>0</td>\n",
       "      <td>0</td>\n",
       "      <td>0</td>\n",
       "      <td>405</td>\n",
       "    </tr>\n",
       "  </tbody>\n",
       "</table>\n",
       "</div>"
      ],
      "text/plain": [
       "     1    2    3    4    5    6    7\n",
       "1  340   57    0    0    5    0   32\n",
       "2   68  338   10    0   33    8    1\n",
       "3    0    1  392   13    4   27    0\n",
       "4    0    0    5  440    0    2    0\n",
       "5    0    6    7    0  401    4    0\n",
       "6    0    3   16    5    2  385    0\n",
       "7   12    2    0    0    0    0  405"
      ]
     },
     "execution_count": 18,
     "metadata": {},
     "output_type": "execute_result"
    }
   ],
   "source": [
    "# confusion matrix\n",
    "cm = confusion_matrix(y_valid, valid_pred)\n",
    "cm_df = pd.DataFrame(cm)\n",
    "# Change the column names\n",
    "cm_df.columns =[1, 2, 3, 4, 5, 6, 7]\n",
    "cm_df.index = [1, 2, 3, 4, 5, 6, 7]\n",
    "# display\n",
    "cm_df"
   ]
  },
  {
   "cell_type": "markdown",
   "id": "501880b8",
   "metadata": {
    "papermill": {
     "duration": 0.025813,
     "end_time": "2021-12-12T04:16:59.038034",
     "exception": false,
     "start_time": "2021-12-12T04:16:59.012221",
     "status": "completed"
    },
    "tags": []
   },
   "source": [
    "# Distribution of Class Probability Predictions"
   ]
  },
  {
   "cell_type": "markdown",
   "id": "ffbdaf1f",
   "metadata": {
    "papermill": {
     "duration": 0.024751,
     "end_time": "2021-12-12T04:16:59.089307",
     "exception": false,
     "start_time": "2021-12-12T04:16:59.064556",
     "status": "completed"
    },
    "tags": []
   },
   "source": [
    "In this section, we provide some histograms displaying the distributions of probability estimates generated for each label."
   ]
  },
  {
   "cell_type": "code",
   "execution_count": 19,
   "id": "90274bc7",
   "metadata": {
    "execution": {
     "iopub.execute_input": "2021-12-12T04:16:59.146050Z",
     "iopub.status.busy": "2021-12-12T04:16:59.145333Z",
     "iopub.status.idle": "2021-12-12T04:16:59.157694Z",
     "shell.execute_reply": "2021-12-12T04:16:59.158145Z",
     "shell.execute_reply.started": "2021-12-12T04:14:59.055951Z"
    },
    "papermill": {
     "duration": 0.04388,
     "end_time": "2021-12-12T04:16:59.158317",
     "exception": false,
     "start_time": "2021-12-12T04:16:59.114437",
     "status": "completed"
    },
    "tags": []
   },
   "outputs": [
    {
     "data": {
      "text/html": [
       "<div>\n",
       "<style scoped>\n",
       "    .dataframe tbody tr th:only-of-type {\n",
       "        vertical-align: middle;\n",
       "    }\n",
       "\n",
       "    .dataframe tbody tr th {\n",
       "        vertical-align: top;\n",
       "    }\n",
       "\n",
       "    .dataframe thead th {\n",
       "        text-align: right;\n",
       "    }\n",
       "</style>\n",
       "<table border=\"1\" class=\"dataframe\">\n",
       "  <thead>\n",
       "    <tr style=\"text-align: right;\">\n",
       "      <th></th>\n",
       "      <th>1</th>\n",
       "      <th>2</th>\n",
       "      <th>3</th>\n",
       "      <th>4</th>\n",
       "      <th>5</th>\n",
       "      <th>6</th>\n",
       "      <th>7</th>\n",
       "    </tr>\n",
       "  </thead>\n",
       "  <tbody>\n",
       "    <tr>\n",
       "      <th>0</th>\n",
       "      <td>0.000000</td>\n",
       "      <td>0.016106</td>\n",
       "      <td>0.068118</td>\n",
       "      <td>0.0</td>\n",
       "      <td>0.000000</td>\n",
       "      <td>0.915776</td>\n",
       "      <td>0.000000</td>\n",
       "    </tr>\n",
       "    <tr>\n",
       "      <th>1</th>\n",
       "      <td>0.371000</td>\n",
       "      <td>0.425000</td>\n",
       "      <td>0.000000</td>\n",
       "      <td>0.0</td>\n",
       "      <td>0.202000</td>\n",
       "      <td>0.002000</td>\n",
       "      <td>0.000000</td>\n",
       "    </tr>\n",
       "    <tr>\n",
       "      <th>2</th>\n",
       "      <td>0.001083</td>\n",
       "      <td>0.002000</td>\n",
       "      <td>0.000000</td>\n",
       "      <td>0.0</td>\n",
       "      <td>0.000000</td>\n",
       "      <td>0.000000</td>\n",
       "      <td>0.996917</td>\n",
       "    </tr>\n",
       "    <tr>\n",
       "      <th>3</th>\n",
       "      <td>0.006087</td>\n",
       "      <td>0.276991</td>\n",
       "      <td>0.000054</td>\n",
       "      <td>0.0</td>\n",
       "      <td>0.716868</td>\n",
       "      <td>0.000000</td>\n",
       "      <td>0.000000</td>\n",
       "    </tr>\n",
       "    <tr>\n",
       "      <th>4</th>\n",
       "      <td>0.360165</td>\n",
       "      <td>0.559063</td>\n",
       "      <td>0.000000</td>\n",
       "      <td>0.0</td>\n",
       "      <td>0.080688</td>\n",
       "      <td>0.000000</td>\n",
       "      <td>0.000083</td>\n",
       "    </tr>\n",
       "    <tr>\n",
       "      <th>...</th>\n",
       "      <td>...</td>\n",
       "      <td>...</td>\n",
       "      <td>...</td>\n",
       "      <td>...</td>\n",
       "      <td>...</td>\n",
       "      <td>...</td>\n",
       "      <td>...</td>\n",
       "    </tr>\n",
       "    <tr>\n",
       "      <th>3019</th>\n",
       "      <td>0.011852</td>\n",
       "      <td>0.094562</td>\n",
       "      <td>0.001048</td>\n",
       "      <td>0.0</td>\n",
       "      <td>0.890405</td>\n",
       "      <td>0.002133</td>\n",
       "      <td>0.000000</td>\n",
       "    </tr>\n",
       "    <tr>\n",
       "      <th>3020</th>\n",
       "      <td>0.022944</td>\n",
       "      <td>0.071591</td>\n",
       "      <td>0.000000</td>\n",
       "      <td>0.0</td>\n",
       "      <td>0.905412</td>\n",
       "      <td>0.000053</td>\n",
       "      <td>0.000000</td>\n",
       "    </tr>\n",
       "    <tr>\n",
       "      <th>3021</th>\n",
       "      <td>0.838245</td>\n",
       "      <td>0.150612</td>\n",
       "      <td>0.000000</td>\n",
       "      <td>0.0</td>\n",
       "      <td>0.007143</td>\n",
       "      <td>0.001000</td>\n",
       "      <td>0.003000</td>\n",
       "    </tr>\n",
       "    <tr>\n",
       "      <th>3022</th>\n",
       "      <td>0.001000</td>\n",
       "      <td>0.000000</td>\n",
       "      <td>0.000000</td>\n",
       "      <td>0.0</td>\n",
       "      <td>0.000000</td>\n",
       "      <td>0.000000</td>\n",
       "      <td>0.999000</td>\n",
       "    </tr>\n",
       "    <tr>\n",
       "      <th>3023</th>\n",
       "      <td>0.002000</td>\n",
       "      <td>0.000000</td>\n",
       "      <td>0.000000</td>\n",
       "      <td>0.0</td>\n",
       "      <td>0.000000</td>\n",
       "      <td>0.000000</td>\n",
       "      <td>0.998000</td>\n",
       "    </tr>\n",
       "  </tbody>\n",
       "</table>\n",
       "<p>3024 rows × 7 columns</p>\n",
       "</div>"
      ],
      "text/plain": [
       "             1         2         3    4         5         6         7\n",
       "0     0.000000  0.016106  0.068118  0.0  0.000000  0.915776  0.000000\n",
       "1     0.371000  0.425000  0.000000  0.0  0.202000  0.002000  0.000000\n",
       "2     0.001083  0.002000  0.000000  0.0  0.000000  0.000000  0.996917\n",
       "3     0.006087  0.276991  0.000054  0.0  0.716868  0.000000  0.000000\n",
       "4     0.360165  0.559063  0.000000  0.0  0.080688  0.000000  0.000083\n",
       "...        ...       ...       ...  ...       ...       ...       ...\n",
       "3019  0.011852  0.094562  0.001048  0.0  0.890405  0.002133  0.000000\n",
       "3020  0.022944  0.071591  0.000000  0.0  0.905412  0.000053  0.000000\n",
       "3021  0.838245  0.150612  0.000000  0.0  0.007143  0.001000  0.003000\n",
       "3022  0.001000  0.000000  0.000000  0.0  0.000000  0.000000  0.999000\n",
       "3023  0.002000  0.000000  0.000000  0.0  0.000000  0.000000  0.998000\n",
       "\n",
       "[3024 rows x 7 columns]"
      ]
     },
     "execution_count": 19,
     "metadata": {},
     "output_type": "execute_result"
    }
   ],
   "source": [
    "# validation predictions data frame\n",
    "df_prob = pd.DataFrame(valid_proba)\n",
    "df_prob.columns = [1, 2, 3, 4, 5, 6, 7]\n",
    "df_prob"
   ]
  },
  {
   "cell_type": "code",
   "execution_count": 20,
   "id": "973a44d0",
   "metadata": {
    "execution": {
     "iopub.execute_input": "2021-12-12T04:16:59.224869Z",
     "iopub.status.busy": "2021-12-12T04:16:59.213727Z",
     "iopub.status.idle": "2021-12-12T04:16:59.627119Z",
     "shell.execute_reply": "2021-12-12T04:16:59.627698Z",
     "shell.execute_reply.started": "2021-12-12T04:14:59.079666Z"
    },
    "papermill": {
     "duration": 0.443716,
     "end_time": "2021-12-12T04:16:59.627881",
     "exception": false,
     "start_time": "2021-12-12T04:16:59.184165",
     "status": "completed"
    },
    "tags": []
   },
   "outputs": [
    {
     "data": {
      "image/png": "[encoded data removed]",
      "text/plain": [
       "<Figure size 864x648 with 1 Axes>"
      ]
     },
     "metadata": {
      "needs_background": "light"
     },
     "output_type": "display_data"
    }
   ],
   "source": [
    "# histogram chart for probabilities by cover type\n",
    "plt.figure(figsize = [12,9])\n",
    "plt.hist(df_prob)\n",
    "plt.title('Histogram for Probabilities for Each Cover Type')\n",
    "plt.ylabel('Count')\n",
    "plt.xlabel('Probability')\n",
    "plt.legend([1, 2, 3, 4, 5, 6, 7], title = 'Cover Type')\n",
    "plt.show()"
   ]
  },
  {
   "cell_type": "markdown",
   "id": "f5cede39",
   "metadata": {
    "papermill": {
     "duration": 0.027507,
     "end_time": "2021-12-12T04:16:59.683471",
     "exception": false,
     "start_time": "2021-12-12T04:16:59.655964",
     "status": "completed"
    },
    "tags": []
   },
   "source": [
    "These visualizations provide us with information about the labels that our model is more likely to predict, or if there are labels that it tends to be more or less confident about."
   ]
  },
  {
   "cell_type": "code",
   "execution_count": 21,
   "id": "3a1d3389",
   "metadata": {
    "execution": {
     "iopub.execute_input": "2021-12-12T04:16:59.743967Z",
     "iopub.status.busy": "2021-12-12T04:16:59.743282Z",
     "iopub.status.idle": "2021-12-12T04:17:00.534898Z",
     "shell.execute_reply": "2021-12-12T04:17:00.535385Z",
     "shell.execute_reply.started": "2021-12-12T04:14:59.520732Z"
    },
    "papermill": {
     "duration": 0.825482,
     "end_time": "2021-12-12T04:17:00.535557",
     "exception": false,
     "start_time": "2021-12-12T04:16:59.710075",
     "status": "completed"
    },
    "tags": []
   },
   "outputs": [
    {
     "data": {
      "image/png": "[encoded data removed]",
      "text/plain": [
       "<Figure size 864x576 with 1 Axes>"
      ]
     },
     "metadata": {
      "needs_background": "light"
     },
     "output_type": "display_data"
    }
   ],
   "source": [
    "df_prob.plot(kind = 'hist',\n",
    "        alpha = 0.7,\n",
    "        bins = 30,\n",
    "        title = 'Histogram of Probabilities by Cover Type',\n",
    "        rot = 45,\n",
    "        grid = False,\n",
    "        figsize = (12,8),\n",
    "        fontsize = 15, \n",
    "        color = ['purple', 'orange', 'gold', 'pink', 'forestgreen', 'lightblue', 'navy'])\n",
    "plt.xlabel('Probability')\n",
    "plt.ylabel(\"Count\");"
   ]
  },
  {
   "cell_type": "code",
   "execution_count": 22,
   "id": "69786fe2",
   "metadata": {
    "execution": {
     "iopub.execute_input": "2021-12-12T04:17:00.598685Z",
     "iopub.status.busy": "2021-12-12T04:17:00.597704Z",
     "iopub.status.idle": "2021-12-12T04:17:00.610691Z",
     "shell.execute_reply": "2021-12-12T04:17:00.611202Z",
     "shell.execute_reply.started": "2021-12-12T04:15:00.463799Z"
    },
    "papermill": {
     "duration": 0.047841,
     "end_time": "2021-12-12T04:17:00.611392",
     "exception": false,
     "start_time": "2021-12-12T04:17:00.563551",
     "status": "completed"
    },
    "tags": []
   },
   "outputs": [],
   "source": [
    "maxValueIndex = df_prob.idxmax(axis=1)\n",
    "maxValues = df_prob.max(axis=1)\n",
    "pred_prob = pd.concat([maxValueIndex, maxValues], axis=1)\n",
    "df_1 = pred_prob.loc[lambda x: x[0] == 1]\n",
    "df_2 = pred_prob.loc[lambda x: x[0] == 2]\n",
    "df_3 = pred_prob.loc[lambda x: x[0] == 3]\n",
    "df_4 = pred_prob.loc[lambda x: x[0] == 4]\n",
    "df_5 = pred_prob.loc[lambda x: x[0] == 5]\n",
    "df_6 = pred_prob.loc[lambda x: x[0] == 6]\n",
    "df_7 = pred_prob.loc[lambda x: x[0] == 7]"
   ]
  },
  {
   "cell_type": "code",
   "execution_count": 23,
   "id": "8ce0aedf",
   "metadata": {
    "execution": {
     "iopub.execute_input": "2021-12-12T04:17:00.670709Z",
     "iopub.status.busy": "2021-12-12T04:17:00.669777Z",
     "iopub.status.idle": "2021-12-12T04:17:02.034390Z",
     "shell.execute_reply": "2021-12-12T04:17:02.033813Z",
     "shell.execute_reply.started": "2021-12-12T04:15:00.493881Z"
    },
    "papermill": {
     "duration": 1.395087,
     "end_time": "2021-12-12T04:17:02.034587",
     "exception": false,
     "start_time": "2021-12-12T04:17:00.639500",
     "status": "completed"
    },
    "tags": []
   },
   "outputs": [
    {
     "data": {
      "text/plain": [
       "<Figure size 1296x648 with 0 Axes>"
      ]
     },
     "metadata": {},
     "output_type": "display_data"
    },
    {
     "data": {
      "image/png": "[encoded data removed]",
      "text/plain": [
       "<Figure size 1296x648 with 1 Axes>"
      ]
     },
     "metadata": {
      "needs_background": "light"
     },
     "output_type": "display_data"
    },
    {
     "data": {
      "image/png": "[encoded data removed]",
      "text/plain": [
       "<Figure size 1296x648 with 1 Axes>"
      ]
     },
     "metadata": {
      "needs_background": "light"
     },
     "output_type": "display_data"
    },
    {
     "data": {
      "image/png": "[encoded data removed]",
      "text/plain": [
       "<Figure size 1296x648 with 1 Axes>"
      ]
     },
     "metadata": {
      "needs_background": "light"
     },
     "output_type": "display_data"
    },
    {
     "data": {
      "image/png": "[encoded data removed]",
      "text/plain": [
       "<Figure size 1296x648 with 1 Axes>"
      ]
     },
     "metadata": {
      "needs_background": "light"
     },
     "output_type": "display_data"
    },
    {
     "data": {
      "image/png": "[encoded data removed]",
      "text/plain": [
       "<Figure size 1296x648 with 1 Axes>"
      ]
     },
     "metadata": {
      "needs_background": "light"
     },
     "output_type": "display_data"
    },
    {
     "data": {
      "image/png": "[encoded data removed]",
      "text/plain": [
       "<Figure size 1296x648 with 1 Axes>"
      ]
     },
     "metadata": {
      "needs_background": "light"
     },
     "output_type": "display_data"
    },
    {
     "data": {
      "image/png": "[encoded data removed]",
      "text/plain": [
       "<Figure size 1296x648 with 1 Axes>"
      ]
     },
     "metadata": {
      "needs_background": "light"
     },
     "output_type": "display_data"
    }
   ],
   "source": [
    "# histograms of probability estimates generated for each label\n",
    "c_label = [1, 2, 3, 4, 5, 6, 7]\n",
    "palette = ['purple', 'orange', 'gold', 'pink', 'forestgreen', 'lightblue', 'navy']\n",
    "dflist = [df_1, df_2, df_3, df_4, df_5, df_6, df_7]\n",
    "plt.figure(figsize = [18, 9])\n",
    "\n",
    "for c in c_label:\n",
    "    plt.figure(figsize = [18, 9])\n",
    "    plt.subplot(2, 4, c)\n",
    "    plt.hist(dflist[c-1][1], color = palette[c-1])\n",
    "    plt.title(f'Probability Distribution for Cover Type {c_label[c-1]}')\n",
    "    plt.ylabel('Count')\n",
    "    plt.ylim(0, 300)\n",
    "    plt.xlabel('Probability')\n",
    "plt.tight_layout()\n",
    "plt.show()"
   ]
  },
  {
   "cell_type": "markdown",
   "id": "f4e1abaa",
   "metadata": {
    "execution": {
     "iopub.execute_input": "2021-12-12T04:14:11.111998Z",
     "iopub.status.busy": "2021-12-12T04:14:11.111635Z",
     "iopub.status.idle": "2021-12-12T04:14:11.118964Z",
     "shell.execute_reply": "2021-12-12T04:14:11.117996Z",
     "shell.execute_reply.started": "2021-12-12T04:14:11.111950Z"
    },
    "papermill": {
     "duration": 0.031532,
     "end_time": "2021-12-12T04:17:02.099802",
     "exception": false,
     "start_time": "2021-12-12T04:17:02.068270",
     "status": "completed"
    },
    "tags": []
   },
   "source": [
    "From these visualizations, we can see that our model is most confident about Cover Types 7, 4, and 5. This corresponds with the classification report data explored earlier. "
   ]
  }
 ],
 "metadata": {
  "kernelspec": {
   "display_name": "Python 3",
   "language": "python",
   "name": "python3"
  },
  "language_info": {
   "codemirror_mode": {
    "name": "ipython",
    "version": 3
   },
   "file_extension": ".py",
   "mimetype": "text/x-python",
   "name": "python",
   "nbconvert_exporter": "python",
   "pygments_lexer": "ipython3",
   "version": "3.7.10"
  },
  "papermill": {
   "default_parameters": {},
   "duration": 55.659647,
   "end_time": "2021-12-12T04:17:05.340866",
   "environment_variables": {},
   "exception": null,
   "input_path": "__notebook__.ipynb",
   "output_path": "__notebook__.ipynb",
   "parameters": {},
   "start_time": "2021-12-12T04:16:09.681219",
   "version": "2.3.3"
  }
 },
 "nbformat": 4,
 "nbformat_minor": 5
}
